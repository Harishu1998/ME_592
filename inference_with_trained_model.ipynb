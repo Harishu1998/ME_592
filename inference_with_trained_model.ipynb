{
 "cells": [
  {
   "cell_type": "code",
   "execution_count": 2,
   "metadata": {},
   "outputs": [],
   "source": []
  },
  {
   "cell_type": "code",
   "execution_count": 3,
   "metadata": {},
   "outputs": [],
   "source": [
    "class Dynamics(nn.Module):\n",
    "    def __init__(self, state_dim, act_dim, model_size=[256, 256]):\n",
    "        super(Dynamics, self).__init__()\n",
    "        self.state_dim = state_dim\n",
    "        self.act_dim = act_dim\n",
    "        self.model_size = model_size\n",
    "        self.fc1 = nn.Linear(state_dim + act_dim, model_size[0])\n",
    "        self.fc2 = nn.Linear(model_size[0], model_size[1])\n",
    "        self.fc3 = nn.Linear(model_size[1], state_dim)\n",
    "\n",
    "    def forward(self, x):\n",
    "        x = torch.relu(self.fc1(x))\n",
    "        x = torch.relu(self.fc2(x))\n",
    "        x = self.fc3(x)\n",
    "        return x\n",
    "    \n",
    "    def predict(self, obs, act):\n",
    "        x = torch.cat((obs, act), dim=1)\n",
    "        return self.forward(x)"
   ]
  },
  {
   "cell_type": "code",
   "execution_count": 4,
   "metadata": {},
   "outputs": [],
   "source": [
    "model = torch.load('vanilla_nn_dynamics_hopper.pth')"
   ]
  },
  {
   "cell_type": "code",
   "execution_count": 12,
   "metadata": {},
   "outputs": [
    {
     "name": "stdout",
     "output_type": "stream",
     "text": [
      "tensor([[  2.6490,   0.9411,  -0.2044,  -0.4286,   0.5041,   0.1095,   1.2498,\n",
      "           1.4124,  -8.6468,  -9.0495, -13.7787,   3.3884]])\n"
     ]
    }
   ],
   "source": [
    "obs = torch.rand(1, 12)\n",
    "act = torch.rand(1, 3)\n",
    "\n",
    "with torch.no_grad():\n",
    "    next_obs = model.predict(obs, act)\n",
    "    print(next_obs)"
   ]
  },
  {
   "cell_type": "code",
   "execution_count": 4,
   "metadata": {},
   "outputs": [
    {
     "name": "stdout",
     "output_type": "stream",
     "text": [
      "True\n"
     ]
    }
   ],
   "source": [
    "import numpy as np\n",
    "healthy_state = np.array([1,2,3,4,5,6])\n",
    "\n",
    "if np.all(10 > healthy_state):\n",
    "    print(True)"
   ]
  }
 ],
 "metadata": {
  "kernelspec": {
   "display_name": "Python 3",
   "language": "python",
   "name": "python3"
  },
  "language_info": {
   "codemirror_mode": {
    "name": "ipython",
    "version": 3
   },
   "file_extension": ".py",
   "mimetype": "text/x-python",
   "name": "python",
   "nbconvert_exporter": "python",
   "pygments_lexer": "ipython3",
   "version": "3.10.9"
  }
 },
 "nbformat": 4,
 "nbformat_minor": 2
}
